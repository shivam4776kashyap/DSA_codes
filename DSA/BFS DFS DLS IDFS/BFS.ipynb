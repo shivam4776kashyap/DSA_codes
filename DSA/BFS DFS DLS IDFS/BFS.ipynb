{
 "cells": [
  {
   "cell_type": "code",
   "execution_count": 7,
   "id": "6aa02d30-1669-4ef9-91a3-e412bf5b14f5",
   "metadata": {},
   "outputs": [
    {
     "name": "stdout",
     "output_type": "stream",
     "text": [
      "Breadth-First Search starting from node A:\n",
      "A B C D E F G "
     ]
    }
   ],
   "source": [
    "# Tree taking as an input \n",
    "from collections import deque\n",
    "\n",
    "def bfs(graph, start):\n",
    "    # Create a queue for BFS and add the start node to it\n",
    "    queue = deque([start])\n",
    "    # Create a set to keep track of visited nodes\n",
    "    visited = set()\n",
    "\n",
    "    while queue:\n",
    "        # Dequeue a node from the front of the queue\n",
    "        node = queue.popleft()\n",
    "        \n",
    "        # If the node has not been visited, mark it as visited\n",
    "        if node not in visited:\n",
    "            print(node, end=\" \")\n",
    "            visited.add(node)\n",
    "            \n",
    "            # Add all the adjacent nodes to the queue\n",
    "            for neighbor in graph[node]:\n",
    "                if neighbor not in visited:\n",
    "                    queue.append(neighbor)\n",
    "\n",
    "# Example usage\n",
    "graph = {\n",
    "    'A': ['B', 'C'],\n",
    "    'B': ['D', 'E'],\n",
    "    'C': ['F', 'G'],\n",
    "    'D': [],\n",
    "    'E': [],\n",
    "    'F': [],\n",
    "    'G': []\n",
    "}\n",
    "\n",
    "print(\"Breadth-First Search starting from node A:\")\n",
    "bfs(graph, 'A')\n"
   ]
  },
  {
   "cell_type": "code",
   "execution_count": 8,
   "id": "412f545c-cf0a-4a09-b30a-ea251502c691",
   "metadata": {},
   "outputs": [
    {
     "name": "stdout",
     "output_type": "stream",
     "text": [
      "Breadth-First Search starting from node A:\n",
      "B D E A C F G "
     ]
    }
   ],
   "source": [
    "# Graph taking as input\n",
    "from collections import deque\n",
    "\n",
    "def bfs(graph, start):\n",
    "    # Create a queue for BFS and add the start node to it\n",
    "    queue = deque([start])\n",
    "    # Create a set to keep track of visited nodes\n",
    "    visited = set()\n",
    "\n",
    "    while queue:\n",
    "        # Dequeue a node from the front of the queue\n",
    "        node = queue.popleft()\n",
    "       # If the node has not been visited, mark it as visited\n",
    "        if node not in visited:\n",
    "            print(node, end=\" \")\n",
    "            visited.add(node)\n",
    "            \n",
    "            # Add all the adjacent nodes to the queue\n",
    "            for neighbor in graph[node]:\n",
    "                if neighbor not in visited:\n",
    "                    queue.append(neighbor)\n",
    "\n",
    "# Example usage\n",
    "graph = {\n",
    "    'A': ['B', 'C','A'],\n",
    "    'B': ['D', 'E','A'],\n",
    "    'C': ['F', 'G'],\n",
    "    'D': ['B'],\n",
    "    'E': ['B'],\n",
    "    'F': ['C'],\n",
    "    'G': ['C']\n",
    "}\n",
    "\n",
    "print(\"Breadth-First Search starting from node A:\")\n",
    "bfs(graph, 'B')\n"
   ]
  },
  {
   "cell_type": "code",
   "execution_count": null,
   "id": "b2d44157-995e-49bb-9d8b-d64b8b0088b8",
   "metadata": {},
   "outputs": [],
   "source": []
  }
 ],
 "metadata": {
  "kernelspec": {
   "display_name": "Python 3 (ipykernel)",
   "language": "python",
   "name": "python3"
  },
  "language_info": {
   "codemirror_mode": {
    "name": "ipython",
    "version": 3
   },
   "file_extension": ".py",
   "mimetype": "text/x-python",
   "name": "python",
   "nbconvert_exporter": "python",
   "pygments_lexer": "ipython3",
   "version": "3.11.7"
  }
 },
 "nbformat": 4,
 "nbformat_minor": 5
}
