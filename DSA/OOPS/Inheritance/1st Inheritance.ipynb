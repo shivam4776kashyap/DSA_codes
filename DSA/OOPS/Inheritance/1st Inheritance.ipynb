{
 "cells": [
  {
   "cell_type": "code",
   "execution_count": 1,
   "id": "3a81123c-7566-47da-bacf-1b3535ad713f",
   "metadata": {},
   "outputs": [
    {
     "name": "stdout",
     "output_type": "stream",
     "text": [
      "Color:  Cherry Red\n",
      "Maxspeed:  200kmph\n",
      "Gears:  4\n",
      "AC:  Yes\n"
     ]
    }
   ],
   "source": [
    "# now in this i will write the simple program of inheritcance where i inherit the property of color and maxspeed from the class vehile into the car class\n",
    "class vehicle:\n",
    "    def __init__(self,color,maxspeed):\n",
    "        self.color=color\n",
    "        self.maxspeed=maxspeed\n",
    "class car(vehicle):\n",
    "    def __init__(self,color,maxspeed,gears,does_have_ac):\n",
    "        super().__init__(color,maxspeed) # THis is the learning line, this is the way to inherit the parent property of the class.\n",
    "        self.gears=gears\n",
    "        self.does_have_ac=does_have_ac\n",
    "\n",
    "    def printCar(self):\n",
    "        print(\"Color: \",self.color)\n",
    "        print(\"Maxspeed: \",self.maxspeed)\n",
    "        print(\"Gears: \",self.gears)\n",
    "        print(\"AC: \",self.does_have_ac)\n",
    "\n",
    "obj1= car(\"Cherry Red\",\"200kmph\",4,\"Yes\")\n",
    "obj1.printCar()"
   ]
  },
  {
   "cell_type": "code",
   "execution_count": 20,
   "id": "387efeef-c16a-4092-9590-9b5f5cbadbf3",
   "metadata": {},
   "outputs": [
    {
     "name": "stdout",
     "output_type": "stream",
     "text": [
      "A value:  10\n",
      "B value:  20\n"
     ]
    }
   ],
   "source": [
    "class parent:\n",
    "    def __init__(self,a,b):\n",
    "        self.a=a\n",
    "        self.b=b\n",
    "class child(parent):\n",
    "    def __init__(self,x,y):\n",
    "        super().__init__(x,y)\n",
    "        print(\"A value: \",self.a)\n",
    "        print(\"B value: \",self.b)\n",
    "\n",
    "obj1=child(10,20)\n"
   ]
  },
  {
   "cell_type": "code",
   "execution_count": 13,
   "id": "1cb78bb8-ec49-402b-9b6d-d70df12bc7ff",
   "metadata": {},
   "outputs": [
    {
     "name": "stdout",
     "output_type": "stream",
     "text": [
      "A:  44\n",
      "B:  22\n",
      "C:  66\n",
      "D:  88\n"
     ]
    }
   ],
   "source": [
    "class parent:\n",
    "    def __init__(self,x,y):\n",
    "        self.a=x\n",
    "        self.b=y\n",
    "class child(parent):\n",
    "    def __init__(self,i,j,k,l):\n",
    "        super().__init__(i,j) # This is the learning line, this is the way to inherit the parent property of the class.\n",
    "        self.c=k\n",
    "        self.d=l\n",
    "\n",
    "    def printnum(self):\n",
    "        print(\"A: \",self.a)\n",
    "        print(\"B: \",self.b)\n",
    "        print(\"C: \",self.c)\n",
    "        print(\"D: \",self.d)\n",
    "        \n",
    "        \n",
    "\n",
    "obj1= child(44,22,66,88)\n",
    "obj1.printnum()"
   ]
  },
  {
   "cell_type": "code",
   "execution_count": null,
   "id": "98566e4c-27bf-49f0-a0bd-8eafc20d73ab",
   "metadata": {},
   "outputs": [],
   "source": []
  }
 ],
 "metadata": {
  "kernelspec": {
   "display_name": "Python 3 (ipykernel)",
   "language": "python",
   "name": "python3"
  },
  "language_info": {
   "codemirror_mode": {
    "name": "ipython",
    "version": 3
   },
   "file_extension": ".py",
   "mimetype": "text/x-python",
   "name": "python",
   "nbconvert_exporter": "python",
   "pygments_lexer": "ipython3",
   "version": "3.11.7"
  }
 },
 "nbformat": 4,
 "nbformat_minor": 5
}
