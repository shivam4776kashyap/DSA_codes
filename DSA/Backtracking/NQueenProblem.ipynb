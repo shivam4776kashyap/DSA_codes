{
 "cells": [
  {
   "cell_type": "code",
   "execution_count": null,
   "id": "86bef35b-6f36-4a13-bb20-ace0e1369e51",
   "metadata": {},
   "outputs": [],
   "source": []
  },
  {
   "cell_type": "code",
   "execution_count": null,
   "id": "6e009e6c-3358-439b-b361-515855144f9d",
   "metadata": {},
   "outputs": [],
   "source": []
  },
  {
   "cell_type": "code",
   "execution_count": 7,
   "id": "c73653ba-6681-4589-83ad-60f6696d4bd5",
   "metadata": {},
   "outputs": [
    {
     "name": "stdin",
     "output_type": "stream",
     "text": [
      " 4\n"
     ]
    },
    {
     "name": "stdout",
     "output_type": "stream",
     "text": [
      "[0, 1, 0, 0]\n",
      "[0, 0, 0, 1]\n",
      "[1, 0, 0, 0]\n",
      "[0, 0, 1, 0]\n",
      "\n",
      "[0, 0, 1, 0]\n",
      "[1, 0, 0, 0]\n",
      "[0, 0, 0, 1]\n",
      "[0, 1, 0, 0]\n",
      "\n"
     ]
    }
   ],
   "source": [
    "def isSafe(row,col,board,n):\n",
    "    #vertical direction\n",
    "    i=row-1\n",
    "    while i>=0:\n",
    "        if board[i][col]==1:\n",
    "            return False\n",
    "        i-=1\n",
    "    #left direction\n",
    "    i=row-1\n",
    "    j=col-1\n",
    "    while i>=0 and j>=0:\n",
    "        if board[i][j]==1:\n",
    "            return False\n",
    "        i-=1\n",
    "        j-=1\n",
    "    #Right Direction\n",
    "    i=row-1\n",
    "    j=col+1\n",
    "    while i>=0 and j<n:\n",
    "        if board[i][j]==1:\n",
    "            return False\n",
    "        i-=1\n",
    "        j+=1\n",
    "        \n",
    "    return True\n",
    "\n",
    "def Helper(row, board, n):\n",
    "    if row==n:\n",
    "        # for i in range(n):\n",
    "        #     for j in range(n):\n",
    "        #         print(board[i][j],end=\" \")\n",
    "        for row in board:\n",
    "            print(row)\n",
    "\n",
    "        print()    \n",
    "        return\n",
    "        \n",
    "    for col in range(n):\n",
    "        if isSafe(row,col,board,n) is True:\n",
    "            board[row][col]=1\n",
    "            Helper(row+1,board,n)\n",
    "            board[row][col]=0\n",
    "\n",
    "def solutionMatrix(n):\n",
    "    board=[[0 for j in range(n)] for i in range(n)]\n",
    "    Helper(0,board,n)\n",
    "\n",
    "\n",
    "n=int(input())\n",
    "solutionMatrix(n)"
   ]
  },
  {
   "cell_type": "code",
   "execution_count": null,
   "id": "901d9615-944e-4f03-a82e-85565f73062b",
   "metadata": {},
   "outputs": [],
   "source": []
  },
  {
   "cell_type": "code",
   "execution_count": null,
   "id": "9cf57936-4784-4f27-aef0-942d81043099",
   "metadata": {},
   "outputs": [],
   "source": []
  },
  {
   "cell_type": "code",
   "execution_count": null,
   "id": "2e733e07-9356-4551-9ac9-0420ba8e46a3",
   "metadata": {},
   "outputs": [],
   "source": []
  },
  {
   "cell_type": "code",
   "execution_count": null,
   "id": "9509d803-b4b0-46f7-a115-b713233a4456",
   "metadata": {},
   "outputs": [],
   "source": []
  },
  {
   "cell_type": "code",
   "execution_count": 15,
   "id": "4470fe3d-8f12-4bf7-b9f0-6377151b0341",
   "metadata": {},
   "outputs": [
    {
     "name": "stdin",
     "output_type": "stream",
     "text": [
      " 4\n"
     ]
    },
    {
     "name": "stdout",
     "output_type": "stream",
     "text": [
      "[0, 1, 0, 0]\n",
      "[0, 0, 0, 1]\n",
      "[1, 0, 0, 0]\n",
      "[0, 0, 1, 0]\n",
      "1\n",
      "[0, 0, 1, 0]\n",
      "[1, 0, 0, 0]\n",
      "[0, 0, 0, 1]\n",
      "[0, 1, 0, 0]\n",
      "2\n"
     ]
    }
   ],
   "source": [
    "x=0\n",
    "def isSafe(row,col,chessBoard,n):\n",
    "    # vertical direction check\n",
    "    i=row-1\n",
    "    while i>=0:\n",
    "        if chessBoard[i][col]==1:\n",
    "            return False\n",
    "        i=i-1\n",
    "    # right direction check\n",
    "    i= row-1\n",
    "    j=col+1\n",
    "    while i>=0 and j<n:\n",
    "        if chessBoard[i][j]==1:\n",
    "            return False\n",
    "        i=i-1\n",
    "        j=j+1\n",
    "    # left direction check\n",
    "    i =row-1\n",
    "    j =col-1\n",
    "    while i>=0 and j>=0:\n",
    "        if chessBoard[i][j]==1:\n",
    "            return False\n",
    "        i=i-1\n",
    "        j=j-1\n",
    "    return True\n",
    "\n",
    "def nextRow(chessBoard,row,n):\n",
    "    if row==n:\n",
    "        for row in chessBoard:\n",
    "            print(row)\n",
    "        global x\n",
    "        x=x+1\n",
    "        print(x)\n",
    "        return\n",
    "\n",
    "    for col in range(n):\n",
    "        if isSafe(row,col,chessBoard,n) is True:\n",
    "            chessBoard[row][col]=1\n",
    "            nextRow(chessBoard,row+1,n)\n",
    "            chessBoard[row][col]=0\n",
    "\n",
    "def solMatrix(n):\n",
    "    chessBoard= [[0 for j in range(n)] for i in range(n)]\n",
    "    # print(board)\n",
    "    nextRow(chessBoard,0,n)\n",
    "\n",
    "# NQueen problem My solution\n",
    "n= int(input())\n",
    "solMatrix(n)\n"
   ]
  },
  {
   "cell_type": "code",
   "execution_count": 17,
   "id": "b08face0-952a-4d38-acc9-002ff8ffac17",
   "metadata": {},
   "outputs": [
    {
     "name": "stdin",
     "output_type": "stream",
     "text": [
      " 4\n"
     ]
    },
    {
     "name": "stdout",
     "output_type": "stream",
     "text": [
      "1\n",
      "2\n"
     ]
    }
   ],
   "source": [
    "x=0\n",
    "def isSafe(row,col,chessBoard,n):\n",
    "    # vertical direction check\n",
    "    i=row-1\n",
    "    while i>=0:\n",
    "        if chessBoard[i][col]==1:\n",
    "            return False\n",
    "        i=i-1\n",
    "    # right direction check\n",
    "    i= row-1\n",
    "    j=col+1\n",
    "    while i>=0 and j<n:\n",
    "        if chessBoard[i][j]==1:\n",
    "            return False\n",
    "        i=i-1\n",
    "        j=j+1\n",
    "    # left direction check\n",
    "    i =row-1\n",
    "    j =col-1\n",
    "    while i>=0 and j>=0:\n",
    "        if chessBoard[i][j]==1:\n",
    "            return False\n",
    "        i=i-1\n",
    "        j=j-1\n",
    "    return True\n",
    "\n",
    "def nextRow(chessBoard,row,n):\n",
    "    if row==n:\n",
    "        # for row in chessBoard:\n",
    "        #     print(row)\n",
    "        global x\n",
    "        x=x+1\n",
    "        print(x)\n",
    "        return\n",
    "\n",
    "    for col in range(n):\n",
    "        if isSafe(row,col,chessBoard,n) is True:\n",
    "            chessBoard[row][col]=1\n",
    "            nextRow(chessBoard,row+1,n)\n",
    "            chessBoard[row][col]=0\n",
    "\n",
    "def solMatrix(n):\n",
    "    chessBoard= [[0 for j in range(n)] for i in range(n)]\n",
    "    # print(board)\n",
    "    nextRow(chessBoard,0,n)\n",
    "\n",
    "# NQueen problem My solution\n",
    "n= int(input())\n",
    "solMatrix(n)\n"
   ]
  },
  {
   "cell_type": "code",
   "execution_count": 28,
   "id": "b2db3a60-d92d-4ef0-a255-0361f5090d41",
   "metadata": {},
   "outputs": [],
   "source": [
    "4 ----->2\n",
    "5 ----->10\n",
    "6 ----->4\n",
    "7 ----->40\n",
    "8 ----->92\n",
    "9 ----->352\n",
    "10----->724\n",
    "11----->2,680\n",
    "12----->14,200\n",
    "13----->73,712\n",
    "14----->3,65,596\n",
    "15----->22,79,184"
   ]
  },
  {
   "cell_type": "code",
   "execution_count": null,
   "id": "a2c716b0-0b44-4bd5-b7aa-092d65d535ed",
   "metadata": {},
   "outputs": [],
   "source": []
  },
  {
   "cell_type": "code",
   "execution_count": null,
   "id": "24fa8d61-4dd0-4ca4-a31f-68a7fac30682",
   "metadata": {},
   "outputs": [],
   "source": []
  },
  {
   "cell_type": "code",
   "execution_count": null,
   "id": "b059769c-4450-468d-a17d-541b660ad0ba",
   "metadata": {},
   "outputs": [],
   "source": [
    " "
   ]
  }
 ],
 "metadata": {
  "kernelspec": {
   "display_name": "Python 3 (ipykernel)",
   "language": "python",
   "name": "python3"
  },
  "language_info": {
   "codemirror_mode": {
    "name": "ipython",
    "version": 3
   },
   "file_extension": ".py",
   "mimetype": "text/x-python",
   "name": "python",
   "nbconvert_exporter": "python",
   "pygments_lexer": "ipython3",
   "version": "3.11.7"
  }
 },
 "nbformat": 4,
 "nbformat_minor": 5
}
