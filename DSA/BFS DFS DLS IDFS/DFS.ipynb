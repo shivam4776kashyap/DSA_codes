{
 "cells": [
  {
   "cell_type": "code",
   "execution_count": 3,
   "id": "595d1adf-a9d3-42d1-b3cf-bdc0c1b5e123",
   "metadata": {},
   "outputs": [
    {
     "name": "stdout",
     "output_type": "stream",
     "text": [
      "Depth-First Search starting from node A:\n",
      "A B D E C F G "
     ]
    }
   ],
   "source": [
    "def dfs(graph, start, visited=None):\n",
    "    if visited is None:\n",
    "        visited = set()\n",
    "\n",
    "    # Mark the start node as visited\n",
    "    visited.add(start)\n",
    "    print(start, end=\" \")\n",
    "\n",
    "    # Recursively visit all the adjacent nodes\n",
    "    for neighbor in graph[start]:\n",
    "        if neighbor not in visited:\n",
    "            dfs(graph, neighbor, visited)\n",
    "\n",
    "# Example usage\n",
    "graph = {\n",
    "    'A': ['B', 'C'],\n",
    "    'B': ['D', 'E'],\n",
    "    'C': ['F', 'G'],\n",
    "    'D': [],\n",
    "    'E': [],\n",
    "    'F': [],\n",
    "    'G': []\n",
    "}\n",
    "\n",
    "print(\"Depth-First Search starting from node A:\")\n",
    "dfs(graph, 'A')\n"
   ]
  },
  {
   "cell_type": "code",
   "execution_count": 12,
   "id": "d6f6cea3-c5f3-4cf8-b051-16bc6ca621b9",
   "metadata": {},
   "outputs": [
    {
     "name": "stdout",
     "output_type": "stream",
     "text": [
      "Depth-First Search starting from node A:\n",
      "Not found\n"
     ]
    }
   ],
   "source": [
    "# My learning to search whether the element is present in graph or not using DFS \n",
    "def dfs(graph, start, goal, visited=None):\n",
    "    if visited is None:\n",
    "        visited = set()\n",
    "    if start==goal:\n",
    "        return True\n",
    "    # Mark the start node as visited\n",
    "    visited.add(start)\n",
    "    \n",
    "\n",
    "    # Recursively visit all the adjacent nodes\n",
    "    for neighbor in graph[start]:\n",
    "        if neighbor not in visited:\n",
    "            result = dfs(graph, neighbor, goal, visited)\n",
    "        if result==True:\n",
    "            return True\n",
    "\n",
    "# Example usage\n",
    "graph = {\n",
    "    'A': ['B', 'C'],\n",
    "    'B': ['D', 'E'],\n",
    "    'C': ['F', 'G'],\n",
    "    'D': [],\n",
    "    'E': [],\n",
    "    'F': [],\n",
    "    'G': []\n",
    "}\n",
    "\n",
    "print(\"Depth-First Search starting from node A:\")\n",
    "result=dfs(graph, 'A','L')\n",
    "if result==True:\n",
    "    print(\"Found\")\n",
    "\n",
    "else:\n",
    "    print(\"Not found\")"
   ]
  },
  {
   "cell_type": "code",
   "execution_count": null,
   "id": "31448c99-fd6c-4a39-8f9a-f01f3dc26df6",
   "metadata": {},
   "outputs": [],
   "source": []
  },
  {
   "cell_type": "code",
   "execution_count": null,
   "id": "24bb40a7-6c6f-427c-9e53-2f3085611ad9",
   "metadata": {},
   "outputs": [],
   "source": []
  }
 ],
 "metadata": {
  "kernelspec": {
   "display_name": "Python 3 (ipykernel)",
   "language": "python",
   "name": "python3"
  },
  "language_info": {
   "codemirror_mode": {
    "name": "ipython",
    "version": 3
   },
   "file_extension": ".py",
   "mimetype": "text/x-python",
   "name": "python",
   "nbconvert_exporter": "python",
   "pygments_lexer": "ipython3",
   "version": "3.11.7"
  }
 },
 "nbformat": 4,
 "nbformat_minor": 5
}
