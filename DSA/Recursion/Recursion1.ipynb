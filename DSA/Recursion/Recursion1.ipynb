{
 "cells": [
  {
   "cell_type": "code",
   "execution_count": 25,
   "id": "cc97bd33-5e2e-492f-9921-ef94a2285f8a",
   "metadata": {},
   "outputs": [],
   "source": [
    "# Increasing the system limit for printing the large output number like factorial of 2000\n",
    "import sys\n",
    "sys.set_int_max_str_digits(9000)"
   ]
  },
  {
   "cell_type": "code",
   "execution_count": 18,
   "id": "0bb24bf1-3286-4852-8965-d26fe60d178d",
   "metadata": {},
   "outputs": [],
   "source": [
    "# Factorial Function\n",
    "def fact(n):\n",
    "    if n==0:\n",
    "        return 1\n",
    "    return n*fact(n-1)\n"
   ]
  },
  {
   "cell_type": "code",
   "execution_count": 3,
   "id": "8ea82a94-2845-4a37-9364-4b42a95edea7",
   "metadata": {},
   "outputs": [],
   "source": [
    "# Summation function\n",
    "def sum_n(n):\n",
    "    if n==0:\n",
    "        return 0\n",
    "    sum=n+sum_n(n-1)\n",
    "    return sum\n"
   ]
  },
  {
   "cell_type": "code",
   "execution_count": 4,
   "id": "6b2580c0-bd62-47ac-818d-2a107d1bdc9a",
   "metadata": {},
   "outputs": [],
   "source": [
    "# Print number from 1 to n\n",
    "def p(n):\n",
    "    if n==0:\n",
    "        return\n",
    "\n",
    "    p(n-1)\n",
    "    print(n)\n",
    "    "
   ]
  },
  {
   "cell_type": "code",
   "execution_count": 5,
   "id": "597741e0-a7c0-408c-8c0b-e00de22d0e5a",
   "metadata": {},
   "outputs": [],
   "source": [
    "# Print number from n to 1\n",
    "def q(n):\n",
    "    if n==0:\n",
    "        return\n",
    "\n",
    "    print(n)\n",
    "    q(n-1)"
   ]
  },
  {
   "cell_type": "code",
   "execution_count": 9,
   "id": "242499fb-b4a1-46d5-a06c-e6d435213749",
   "metadata": {},
   "outputs": [],
   "source": [
    "# Fibonacci series\n",
    "def fib(n):\n",
    "    if(n==1 or n==2):\n",
    "        return 1\n",
    "    return fib(n-1)+fib(n-2)"
   ]
  },
  {
   "cell_type": "code",
   "execution_count": 27,
   "id": "73f08d83-eee8-4e07-ac15-2b7fff119cdf",
   "metadata": {},
   "outputs": [
    {
     "name": "stdin",
     "output_type": "stream",
     "text": [
      " 10\n"
     ]
    },
    {
     "name": "stdout",
     "output_type": "stream",
     "text": [
      "Factorial: 3628800\n"
     ]
    }
   ],
   "source": [
    "n=int(input())\n",
    "print(\"Factorial:\",fact(n))\n",
    "# print(\"Summation:\",sum_n(n))\n",
    "# print(\"Print 1ton\",p(n))\n",
    "# print(\"Print nto1\",q(n))\n",
    "# print(\"Sum of Fib\",fib(n))"
   ]
  },
  {
   "cell_type": "markdown",
   "id": "926748f0-cd52-4a88-819c-9c8bd96a8bba",
   "metadata": {},
   "source": [
    "# Checking the list is Sorted or not"
   ]
  },
  {
   "cell_type": "code",
   "execution_count": 39,
   "id": "bdb89d4b-171c-4444-9d92-cefaf4fa284a",
   "metadata": {},
   "outputs": [
    {
     "data": {
      "text/plain": [
       "False"
      ]
     },
     "execution_count": 39,
     "metadata": {},
     "output_type": "execute_result"
    }
   ],
   "source": [
    "def isSorted(li):    # List aayi usko li mei store kiya\n",
    "    l=len(li)        # Uski length ko l mei store kiya\n",
    "    if(l==0 or l==1):# Agr list mei 0 ya 1 element hai toh list already sorted hai so True return krawaya\n",
    "        return True\n",
    "    if(li[0]>li[1]): # Agr pehla element doosre element sei bda hai toh False return kiya because starting mei pta chal gya ki list sorted nhi hai.\n",
    "        return False\n",
    "    \n",
    "    x=li[1:]         # Pehla element chod ke aage ki poori list copy ki x mei \n",
    "    isSmallerListSorted=isSorted(x) #Aur phir aage paas kiya same function mei, aur jo result ayega usko isSmallerListSorted wale varible mei store kiya\n",
    "    return isSmallerListSorted\n",
    "\n",
    "isSorted([1,2,3,499,50])"
   ]
  },
  {
   "cell_type": "code",
   "execution_count": 6,
   "id": "a3b2de34-85e6-45f0-a5ae-c6587392f65d",
   "metadata": {},
   "outputs": [
    {
     "data": {
      "text/plain": [
       "False"
      ]
     },
     "execution_count": 6,
     "metadata": {},
     "output_type": "execute_result"
    }
   ],
   "source": [
    "# Better version of above program\n",
    "def isSortedBetter(a,si):\n",
    "    l=len(a)\n",
    "    if si==l-1 or si==l:\n",
    "        return True\n",
    "    if a[si]>a[si+1]:\n",
    "        return False\n",
    "    isSmallerListSorted=isSortedBetter(a,si+1)\n",
    "    return isSmallerListSorted\n",
    "\n",
    "a=[2223,423,53,64]\n",
    "isSortedBetter(a,0)"
   ]
  },
  {
   "cell_type": "markdown",
   "id": "3d9b469d-c352-4c03-b771-65ad3606d86b",
   "metadata": {},
   "source": [
    "# Finding first occurance of x number in the list and return its index."
   ]
  },
  {
   "cell_type": "code",
   "execution_count": 15,
   "id": "b45e2819-048a-4d5d-b94e-869a52244286",
   "metadata": {},
   "outputs": [
    {
     "name": "stdout",
     "output_type": "stream",
     "text": [
      "2\n"
     ]
    }
   ],
   "source": [
    "def foil(a,i,x):  #first occurance in list: foil\n",
    "    l=len(a)\n",
    "    if l==0:\n",
    "        return -1\n",
    "    if a[i]==x:\n",
    "        return i\n",
    "    if i==l-1:\n",
    "        return -1\n",
    "    isElementMila=foil(a,i+1,x)\n",
    "    return isElementMila\n",
    "\n",
    "index=foil([2,44,77,4,77],0,77)\n",
    "if index!=-1:\n",
    "    print(index)\n",
    "else:\n",
    "    print(\"Element is not present in list\")"
   ]
  },
  {
   "cell_type": "markdown",
   "id": "6d1757e8-a834-4013-afc9-c8ab663c5fe6",
   "metadata": {},
   "source": [
    "# Finding last occurance of x number in the list and return its index."
   ]
  },
  {
   "cell_type": "code",
   "execution_count": 32,
   "id": "438f1bea-1327-4c87-b3b5-947c859e4cce",
   "metadata": {},
   "outputs": [
    {
     "name": "stdin",
     "output_type": "stream",
     "text": [
      " 5 4 5 6 5 4 \n"
     ]
    },
    {
     "name": "stdout",
     "output_type": "stream",
     "text": [
      "5\n"
     ]
    }
   ],
   "source": [
    "def loil(a,i,x):\n",
    "    l=len(a)\n",
    "    if l==0: # Empty list ke case ko sambhalne ke liye\n",
    "        return -1\n",
    "    if a[i]==x:\n",
    "        return i\n",
    "    if i==0:  # Traverse krte krte agr last element thak pouch gaye toh uss case ko sambhalne ke liye\n",
    "        return -1\n",
    "    isElementMila=loil(a,i-1,x)\n",
    "    return isElementMila\n",
    "\n",
    "a=[int(i) for i in input().split()] # List ko input le rha hoon :)\n",
    "index=loil(a,len(a)-1,4)\n",
    "if index!=-1:\n",
    "    print(index)\n",
    "else:\n",
    "    print(\"Element is not present in list\")\n",
    "        "
   ]
  },
  {
   "cell_type": "code",
   "execution_count": 3,
   "id": "92c2697e-5219-4444-ba15-b68ac2613b9a",
   "metadata": {},
   "outputs": [
    {
     "data": {
      "text/plain": [
       "-1"
      ]
     },
     "execution_count": 3,
     "metadata": {},
     "output_type": "execute_result"
    }
   ],
   "source": [
    "# Learning i learn by myself\n",
    "def f(a,e,si):\n",
    "    l=len(a)\n",
    "    if(l==0 or si==l):\n",
    "        return -1\n",
    "    if(a[si]==e):\n",
    "        return si\n",
    "    return f(a,e,si+1)\n",
    "\n",
    "f([10,20,130,40,30],320,0)"
   ]
  },
  {
   "cell_type": "code",
   "execution_count": null,
   "id": "d2738344-5d1d-47d8-826f-96f0a55c3642",
   "metadata": {},
   "outputs": [],
   "source": []
  },
  {
   "cell_type": "code",
   "execution_count": 7,
   "id": "31e3e109-ad9f-4212-a4f7-6f577325de1c",
   "metadata": {},
   "outputs": [
    {
     "data": {
      "text/plain": [
       "-1"
      ]
     },
     "execution_count": 7,
     "metadata": {},
     "output_type": "execute_result"
    }
   ],
   "source": [
    "def f(a,e,si):\n",
    "    l=len(a)\n",
    "    if l==0 or si==l:\n",
    "        return -1\n",
    "    x=f(a,e,si+1)\n",
    "    if x!=-1:\n",
    "        return x\n",
    "    elif a[si]==e:\n",
    "        return si\n",
    "    else:\n",
    "        return -1\n",
    "\n",
    "f([10,20,30,40,130],230,0)"
   ]
  },
  {
   "cell_type": "code",
   "execution_count": null,
   "id": "621811cb-04b5-499b-aa6b-5cbd0953c473",
   "metadata": {},
   "outputs": [],
   "source": []
  }
 ],
 "metadata": {
  "kernelspec": {
   "display_name": "Python 3 (ipykernel)",
   "language": "python",
   "name": "python3"
  },
  "language_info": {
   "codemirror_mode": {
    "name": "ipython",
    "version": 3
   },
   "file_extension": ".py",
   "mimetype": "text/x-python",
   "name": "python",
   "nbconvert_exporter": "python",
   "pygments_lexer": "ipython3",
   "version": "3.11.7"
  }
 },
 "nbformat": 4,
 "nbformat_minor": 5
}
