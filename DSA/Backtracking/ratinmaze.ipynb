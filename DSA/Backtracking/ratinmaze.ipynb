{
 "cells": [
  {
   "cell_type": "code",
   "execution_count": 8,
   "id": "841f4e7a-a517-4dc3-9949-e8ffd96d1e37",
   "metadata": {},
   "outputs": [
    {
     "name": "stdin",
     "output_type": "stream",
     "text": [
      " 4\n",
      " 1 1 1 1\n",
      " 1 0 1 1\n",
      " 1 1 0 1\n",
      " 1 1 1 1\n"
     ]
    },
    {
     "name": "stdout",
     "output_type": "stream",
     "text": [
      "[[1, 0, 0, 0], [1, 0, 0, 0], [1, 0, 0, 0], [1, 1, 1, 1]]\n",
      "[[1, 0, 0, 0], [1, 0, 0, 0], [1, 1, 0, 0], [0, 1, 1, 1]]\n",
      "[[1, 1, 1, 0], [0, 0, 1, 1], [0, 0, 0, 1], [0, 0, 0, 1]]\n",
      "[[1, 1, 1, 1], [0, 0, 0, 1], [0, 0, 0, 1], [0, 0, 0, 1]]\n"
     ]
    }
   ],
   "source": [
    "def printPathHelper(x,y,maze,n,solution):\n",
    "    if x==n-1 and y==n-1:\n",
    "        solution[x][y]=1\n",
    "        print(solution)\n",
    "        return\n",
    "    if x<0 or y<0 or x>=n or y>=n or maze[x][y]==0 or solution[x][y]==1:\n",
    "        return\n",
    "\n",
    "    solution[x][y]=1\n",
    "    printPathHelper(x+1,y,maze,n,solution)\n",
    "    printPathHelper(x,y+1,maze,n,solution)\n",
    "    printPathHelper(x-1,y,maze,n,solution)\n",
    "    printPathHelper(x,y-1,maze,n,solution)\n",
    "    solution[x][y]=0\n",
    "    return\n",
    "\n",
    "def printPath(maze):\n",
    "    n=len(maze)\n",
    "    solution=[[0 for j in range(n)] for i in range(n)]\n",
    "    printPathHelper(0,0,maze,n,solution)\n",
    "\n",
    "\n",
    "n=int(input())  # no. of rows and column in maze\n",
    "maze=[]\n",
    "for i in range(n):\n",
    "    row=[int(ele) for ele in input().split()]\n",
    "    maze.append(row)\n",
    "\n",
    "printPath(maze)\n",
    "\n"
   ]
  },
  {
   "cell_type": "code",
   "execution_count": null,
   "id": "aa852f81-82e5-4994-9a52-af22eb0a2ce3",
   "metadata": {},
   "outputs": [],
   "source": [
    "n= 5\n",
    "solution=[[0 for j in range(n)] for i in range(n)]\n",
    "solution"
   ]
  },
  {
   "cell_type": "code",
   "execution_count": 9,
   "id": "c97651af-bd47-4c47-9dd9-153a440a64de",
   "metadata": {},
   "outputs": [
    {
     "name": "stdin",
     "output_type": "stream",
     "text": [
      " 3\n",
      " 1 2 3\n",
      " 4 5 6\n",
      " 7 8 9\n"
     ]
    },
    {
     "name": "stdout",
     "output_type": "stream",
     "text": [
      "[1, 2, 3]\n",
      "[4, 5, 6]\n",
      "[7, 8, 9]\n"
     ]
    }
   ],
   "source": [
    "#Shivam testing learning\n",
    "n=int(input())  # no. of rows and column in maze\n",
    "maze=[]\n",
    "for i in range(n):\n",
    "    row=[int(ele) for ele in input().split()]\n",
    "    maze.append(row)\n",
    "\n",
    "for row in maze:\n",
    "    print(row)"
   ]
  },
  {
   "cell_type": "code",
   "execution_count": 16,
   "id": "87a89151-b153-4f46-9a1e-f7f5d87af1db",
   "metadata": {},
   "outputs": [
    {
     "name": "stdin",
     "output_type": "stream",
     "text": [
      " 3\n",
      " 1 1 1\n",
      " 1 0 1\n",
      " 1 1 1\n"
     ]
    },
    {
     "name": "stdout",
     "output_type": "stream",
     "text": [
      "[1, 0, 0]\n",
      "[1, 0, 0]\n",
      "[1, 1, 1]\n",
      "\n",
      "[1, 1, 1]\n",
      "[0, 0, 1]\n",
      "[0, 0, 1]\n",
      "\n"
     ]
    }
   ],
   "source": [
    "# shivam rat maze modified version\n",
    "def cordinatehelper(x,y,maze,n,sol_matrix):\n",
    "    if x==n-1 and y==n-1:\n",
    "        sol_matrix[x][y]=1\n",
    "        for row in sol_matrix: # this is nothing but the printing of solution, it is like decoration ok\n",
    "            print(row)\n",
    "        print()\n",
    "        return\n",
    "    if x<0 or y<0 or x>=n or y>=n or maze[x][y]==0 or sol_matrix[x][y]==1:\n",
    "        return\n",
    "\n",
    "    sol_matrix[x][y]=1\n",
    "    cordinatehelper(x+1,y,maze,n,sol_matrix)\n",
    "    cordinatehelper(x,y+1,maze,n,sol_matrix)\n",
    "    cordinatehelper(x-1,y,maze,n,sol_matrix)\n",
    "    cordinatehelper(x,y-1,maze,n,sol_matrix)\n",
    "    sol_matrix[x][y]=0\n",
    "    return\n",
    "\n",
    "def solutionmaze(maze):\n",
    "    n=len(maze)\n",
    "    sol_matrix=[[0 for j in range(n)] for i in range(n)]\n",
    "    cordinatehelper(0,0,maze,n,sol_matrix)\n",
    "\n",
    "\n",
    "n=int(input())  # no. of rows and column in maze\n",
    "maze=[]\n",
    "for i in range(n):\n",
    "    row=[int(ele) for ele in input().split()]\n",
    "    maze.append(row)\n",
    "\n",
    "solutionmaze(maze)\n",
    "\n",
    "\n",
    "\n"
   ]
  },
  {
   "cell_type": "code",
   "execution_count": null,
   "id": "48834e0b-dfb1-4bd6-affe-5ba3b0175463",
   "metadata": {},
   "outputs": [],
   "source": []
  },
  {
   "cell_type": "code",
   "execution_count": null,
   "id": "9dd5f4e3-8654-4706-a66f-0edcf3242f5d",
   "metadata": {},
   "outputs": [],
   "source": []
  },
  {
   "cell_type": "code",
   "execution_count": 14,
   "id": "30ec73ea-411f-4b64-8ef8-4adab910a7ad",
   "metadata": {},
   "outputs": [
    {
     "name": "stdout",
     "output_type": "stream",
     "text": [
      "8\n"
     ]
    }
   ],
   "source": [
    "\n",
    "\n",
    "maze=[[1,1,1,1,1,1,1,1],\n",
    "      [1,0,0,1,1,1,0,1],\n",
    "      [1,0,0,0,0,1,1,1],\n",
    "      [1,1,1,1,1,1,1,1],\n",
    "      [1,1,0,0,1,0,1,1],\n",
    "      [1,1,1,1,1,1,1,1]]\n",
    "\n",
    "print(len(maze[0]))"
   ]
  },
  {
   "cell_type": "code",
   "execution_count": null,
   "id": "3b6c9df1-e717-4400-9675-f9550a19cf29",
   "metadata": {},
   "outputs": [],
   "source": []
  },
  {
   "cell_type": "code",
   "execution_count": null,
   "id": "1787a9f9-820c-441b-a4f6-3764b8d8a221",
   "metadata": {},
   "outputs": [],
   "source": [
    "# NEW MAZE  meet problem\n",
    "\n",
    "def printPathHelper(x,y,maze,n,solution):\n",
    "    if x==n-1 and y==n-1:\n",
    "        solution[x][y]=1\n",
    "        print(solution)\n",
    "        return\n",
    "    if x<0 or y<0 or x>=n or y>=n or maze[x][y]==0 or solution[x][y]==1:\n",
    "        return\n",
    "\n",
    "    solution[x][y]=1\n",
    "    printPathHelper(x+1,y,maze,n,solution)\n",
    "    printPathHelper(x,y+1,maze,n,solution)\n",
    "    printPathHelper(x-1,y,maze,n,solution)\n",
    "    printPathHelper(x,y-1,maze,n,solution)\n",
    "    solution[x][y]=0\n",
    "    return\n",
    "\n",
    "def printPath(maze):\n",
    "    n=len(maze)\n",
    "    solution=[[0 for j in range(n)] for i in range(n)]\n",
    "    \n",
    "    printPathHelper(0,0,maze,n,solution)\n",
    "\n",
    "\n",
    "n=int(input())  # no. of rows and column in maze\n",
    "maze=[[1,1,1,1,1,1,1,1],\n",
    "      [1,0,0,1,1,1,0,1],\n",
    "      [1,0,0,0,0,1,1,1],\n",
    "      [1,1,1,1,1,1,1,1],\n",
    "      [1,1,0,0,1,0,1,1],\n",
    "      [1,1,1,1,1,1,1,1]]\n",
    "\n",
    "printPath(maze)\n",
    "\n"
   ]
  },
  {
   "cell_type": "code",
   "execution_count": 18,
   "id": "482bb778-2422-4a12-a7e5-cd3d444f0073",
   "metadata": {},
   "outputs": [
    {
     "name": "stdin",
     "output_type": "stream",
     "text": [
      " 3\n",
      " 0\n",
      " 2\n",
      " 2\n",
      " 1\n"
     ]
    },
    {
     "name": "stdout",
     "output_type": "stream",
     "text": [
      "[0, 1, 1]\n",
      "[0, 1, 0]\n",
      "[0, 1, 0]\n",
      "\n",
      "[0, 1, 1]\n",
      "[1, 1, 0]\n",
      "[1, 1, 0]\n",
      "\n",
      "[1, 1, 1]\n",
      "[1, 0, 0]\n",
      "[1, 1, 0]\n",
      "\n",
      "[1, 1, 1]\n",
      "[1, 1, 0]\n",
      "[0, 1, 0]\n",
      "\n"
     ]
    }
   ],
   "source": [
    "# shivam rat maze modified version\n",
    "def cordinatehelper(xs,ys,xe,ye,maze,n,sol_matrix):\n",
    "    if xs==xe and ys==ye:\n",
    "        sol_matrix[xs][ys]=1\n",
    "        for row in sol_matrix: # this is nothing but the printing of solution, it is like decoration ok\n",
    "            print(row)\n",
    "        print()\n",
    "        return\n",
    "    if xs<0 or ys<0 or xs>=n or ys>=n or maze[xs][ys]==0 or sol_matrix[xs][ys]==1:\n",
    "        return\n",
    "\n",
    "    sol_matrix[xs][ys]=1\n",
    "    cordinatehelper(xs+1,ys,xe,ye,maze,n,sol_matrix)\n",
    "    cordinatehelper(xs,ys+1,xe,ye,maze,n,sol_matrix)\n",
    "    cordinatehelper(xs-1,ys,xe,ye,maze,n,sol_matrix)\n",
    "    cordinatehelper(xs,ys-1,xe,ye,maze,n,sol_matrix)\n",
    "    sol_matrix[xs][ys]=0\n",
    "    return\n",
    "\n",
    "def solutionmaze(maze):\n",
    "    n=len(maze)\n",
    "    sol_matrix=[[0 for j in range(n)] for i in range(n)]\n",
    "    xStartCord=int(input())\n",
    "    yStartCord=int(input())\n",
    "    xEndCord=int(input())\n",
    "    yEndCord=int(input())\n",
    "    cordinatehelper(xStartCord,yStartCord,xEndCord,yEndCord,maze,n,sol_matrix)\n",
    "\n",
    "\n",
    "n=int(input())  # no. of rows and column in maze\n",
    "# maze=[[1,1,1,1,1,1,1,1],\n",
    "#       [1,0,0,1,1,1,0,1],\n",
    "#       [1,0,0,0,0,1,1,1],\n",
    "#       [1,1,1,1,1,1,1,1],\n",
    "#       [1,1,0,0,1,0,1,1],\n",
    "#       [1,1,1,1,1,1,1,1]]\n",
    " \n",
    "maze=[[1,1,1],\n",
    "      [1,1,0],\n",
    "      [1,1,0]]\n",
    "\n",
    "solutionmaze(maze)\n",
    "\n",
    "\n",
    "\n"
   ]
  },
  {
   "cell_type": "code",
   "execution_count": 19,
   "id": "347c60d3-2e40-4a2c-94df-4b6de208fc7f",
   "metadata": {},
   "outputs": [],
   "source": [
    "n=int(input())  # no. of rows and column in maze\n",
    "maze=[]\n",
    "for i in range(n):\n",
    "    row=[int(ele) for ele in input().split()]\n",
    "    maze.append(row)"
   ]
  },
  {
   "cell_type": "code",
   "execution_count": null,
   "id": "ddd69e08-8b0b-4041-903c-f8ddd4f988e4",
   "metadata": {},
   "outputs": [],
   "source": []
  },
  {
   "cell_type": "code",
   "execution_count": null,
   "id": "781020cf-9d54-4a6f-90fc-20441c5c1d46",
   "metadata": {},
   "outputs": [],
   "source": []
  }
 ],
 "metadata": {
  "kernelspec": {
   "display_name": "Python 3 (ipykernel)",
   "language": "python",
   "name": "python3"
  },
  "language_info": {
   "codemirror_mode": {
    "name": "ipython",
    "version": 3
   },
   "file_extension": ".py",
   "mimetype": "text/x-python",
   "name": "python",
   "nbconvert_exporter": "python",
   "pygments_lexer": "ipython3",
   "version": "3.11.7"
  }
 },
 "nbformat": 4,
 "nbformat_minor": 5
}
