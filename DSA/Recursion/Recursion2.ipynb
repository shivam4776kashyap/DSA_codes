{
 "cells": [
  {
   "cell_type": "code",
   "execution_count": 2,
   "id": "cc7833ea-c7be-4653-abec-bc3303ea1884",
   "metadata": {},
   "outputs": [
    {
     "data": {
      "text/plain": [
       "'bpb'"
      ]
     },
     "execution_count": 2,
     "metadata": {},
     "output_type": "execute_result"
    }
   ],
   "source": [
    "#Replace character a with b\n",
    "def replacechar(str,a,b):\n",
    "    if len(str)==0:\n",
    "        return str\n",
    "\n",
    "    smallOutput= replacechar(str[1:],a,b)\n",
    "    if str[0]==a:\n",
    "        return b + smallOutput\n",
    "    else:\n",
    "        return str[0] + smallOutput\n",
    "\n",
    "replacechar('apa','a','b')\n"
   ]
  },
  {
   "cell_type": "code",
   "execution_count": 18,
   "id": "2491ff6c-643c-436d-802e-9815415e0a2c",
   "metadata": {},
   "outputs": [
    {
     "data": {
      "text/plain": [
       "'3.14abc3.14p'"
      ]
     },
     "execution_count": 18,
     "metadata": {},
     "output_type": "execute_result"
    }
   ],
   "source": [
    " #Replace 'pi' with 3.14\n",
    "def replacepi(str):\n",
    "    if len(str)==0 or len(str)==1:\n",
    "        return str\n",
    "    if str[0]=='p' and str[1]=='i':\n",
    "        peecheKiString= replacepi(str[2:])\n",
    "        return '3.14'+peecheKiString\n",
    "    else:\n",
    "        peecheKiString= replacepi(str[1:])\n",
    "        return str[0]+peecheKiString\n",
    "\n",
    "replacepi('piabcpip')"
   ]
  },
  {
   "cell_type": "code",
   "execution_count": null,
   "id": "1261d2c3-0fde-4a03-9fff-5092a77b020a",
   "metadata": {},
   "outputs": [],
   "source": []
  },
  {
   "cell_type": "code",
   "execution_count": 8,
   "id": "fd971444-4384-4866-8aa1-bee683516c82",
   "metadata": {},
   "outputs": [
    {
     "data": {
      "text/plain": [
       "'kbshybp'"
      ]
     },
     "execution_count": 8,
     "metadata": {},
     "output_type": "execute_result"
    }
   ],
   "source": [
    "# Learning\n",
    "def f(str,a,b):\n",
    "    l=len(str)\n",
    "    if l==0:\n",
    "        return str\n",
    "    peecheKiString= f(str[1:],a,b)\n",
    "    if str[0]==a:\n",
    "        return  b+peecheKiString\n",
    "    else:\n",
    "        return str[0]+peecheKiString\n",
    "    \n",
    "f('kashyap','a','b')"
   ]
  },
  {
   "cell_type": "code",
   "execution_count": null,
   "id": "c066d2e4-4ab7-4faf-a90c-9f529b196146",
   "metadata": {},
   "outputs": [],
   "source": []
  },
  {
   "cell_type": "code",
   "execution_count": 14,
   "id": "ca56c3c4-5c47-4d4b-a997-59f96fcd4912",
   "metadata": {},
   "outputs": [
    {
     "data": {
      "text/plain": [
       "False"
      ]
     },
     "execution_count": 14,
     "metadata": {},
     "output_type": "execute_result"
    }
   ],
   "source": [
    "'shivam'=='Shivam'"
   ]
  },
  {
   "cell_type": "code",
   "execution_count": null,
   "id": "54d2d5be-d082-4618-bab6-0649157cd987",
   "metadata": {},
   "outputs": [],
   "source": []
  },
  {
   "cell_type": "code",
   "execution_count": 19,
   "id": "55920a74-a8f7-44e2-b38c-10b1afcc6737",
   "metadata": {},
   "outputs": [
    {
     "data": {
      "text/plain": [
       "6"
      ]
     },
     "execution_count": 19,
     "metadata": {},
     "output_type": "execute_result"
    }
   ],
   "source": [
    "# Binary Search\n",
    "def binarySearch(a,e,si,ei):\n",
    "    if si>ei or ei==0: # Base case: agr si ei ko cross kr deta hai, iska matlab element nhi hai list mei yaa agr empty ho toh return -1\n",
    "        return -1\n",
    "    mid= (si+ei)//2  # calculate kiya mid\n",
    "    \n",
    "    if a[mid]==e:  \n",
    "        return mid\n",
    "    \n",
    "    elif a[mid]>e: # agr mid index pr element bda hai e element sei iska matlab RHS wale element bekar ho gye toh ei ko shift kro\n",
    "        return binarySearch(a,e,si,mid-1)\n",
    "    \n",
    "    else: # similarly agr mid index pr element chota hai to si ko shift karo\n",
    "        return binarySearch(a,e,mid+1,ei)\n",
    "\n",
    "\n",
    "a=[1,2,3,4,5,43,54]\n",
    "# a=[]\n",
    "# a=[1,2,3,4,5,32]\n",
    "binarySearch(a,54,0,len(a)-1) # char cheeze we passed ie (list,element,starting index, ending index)\n",
    "        "
   ]
  },
  {
   "cell_type": "code",
   "execution_count": null,
   "id": "a2280889-c6a6-491d-9ca8-9bde65257f69",
   "metadata": {},
   "outputs": [],
   "source": []
  },
  {
   "cell_type": "code",
   "execution_count": 2,
   "id": "67b4caa8-d74d-4c16-bc9d-02292ae5e708",
   "metadata": {},
   "outputs": [],
   "source": [
    "def merge(a1,a2,a):\n",
    "    i=0\n",
    "    j=0\n",
    "    k=0\n",
    "    while i<len(a1) and j<len(a2):\n",
    "        if a1[i]<a2[j]:\n",
    "            a[k]=a1[i]\n",
    "            k=k+1\n",
    "            i=i+1\n",
    "        else:\n",
    "            a[k]=a2[j]\n",
    "            k=k+1\n",
    "            j=j+1\n",
    "\n",
    "    while i<len(a1):\n",
    "        a[k]=a1[i]\n",
    "        k=k+1\n",
    "        i=i+1\n",
    "\n",
    "    while j<len(a2):\n",
    "        a[k]=a2[j]\n",
    "        k=k+1\n",
    "        j=j+1\n",
    "    "
   ]
  },
  {
   "cell_type": "code",
   "execution_count": 3,
   "id": "d053b0a1-26eb-409a-8359-f0416b8af912",
   "metadata": {},
   "outputs": [
    {
     "data": {
      "text/plain": [
       "[1, 21, 22, 23, 25, 45, 523, 534]"
      ]
     },
     "execution_count": 3,
     "metadata": {},
     "output_type": "execute_result"
    }
   ],
   "source": [
    "# Merge Sort\n",
    "def mergeSort(a):\n",
    "    if len(a)==0 or len(a)==1:\n",
    "        return \n",
    "    mid= len(a)//2\n",
    "    a1= a[:mid]\n",
    "    a2= a[mid:]\n",
    "\n",
    "    mergeSort(a1)\n",
    "    mergeSort(a2)\n",
    "\n",
    "    merge(a1,a2,a)\n",
    "\n",
    "\n",
    "a=[21,523,534,25,22,1,45,23]\n",
    "mergeSort(a)\n",
    "a"
   ]
  },
  {
   "cell_type": "code",
   "execution_count": null,
   "id": "6e24eb08-5b6d-43cb-8c9d-f7097aed42e5",
   "metadata": {},
   "outputs": [],
   "source": []
  },
  {
   "cell_type": "code",
   "execution_count": null,
   "id": "fc5c0d33-1e83-4063-bb04-0f6a662e0127",
   "metadata": {},
   "outputs": [],
   "source": [
    "# Quick Sort\n",
    "def quickSort(a,si,ei):\n",
    "    if si>=ei:\n",
    "        return\n",
    "\n",
    "    i= partition(a)\n",
    "    quickSort(a,si,i)\n",
    "    quickSort(a,i+1,ei)"
   ]
  },
  {
   "cell_type": "code",
   "execution_count": null,
   "id": "e7487d74-2ff3-4526-b167-7f73ee4673cd",
   "metadata": {},
   "outputs": [],
   "source": [
    "def partition(a):\n",
    "    pvt_point=a[0]\n",
    "    count=0\n",
    "    for i in a:\n",
    "        if a[i] < pvt_point:\n",
    "            count = count + 1\n",
    "    #Doing the swap\n",
    "    a[count]  = a[count] + pvt_point\n",
    "    pvt_point = a[count] - pvt_point\n",
    "    a[count]  = a[count] - pvt_point\n",
    "\n",
    "    pvt_point= a[count]\n",
    "\n",
    "    i=0\n",
    "    j=len(a)-1\n",
    "    for i in range(i,count):\n",
    "        if a[i]>pvt_point:\n",
    "            for j in range(j,count,-1):\n",
    "                if a[j]<pvt_point:\n",
    "                    swap(a[i],a[j])\n",
    "                    break:\n",
    "            break:\n",
    "                \n",
    "        \n",
    "\n",
    "    \n",
    "    \n",
    "            "
   ]
  },
  {
   "cell_type": "code",
   "execution_count": 5,
   "id": "fe3a6c53-5bf6-4e06-9abc-ae4aa943f8d3",
   "metadata": {},
   "outputs": [
    {
     "data": {
      "text/plain": [
       "[1, 2, 3, 4, 5, 6, 7, 8, 9, 10]"
      ]
     },
     "execution_count": 5,
     "metadata": {},
     "output_type": "execute_result"
    }
   ],
   "source": [
    "# Quick Sort sir way's\n",
    "def QuickSort(a,si,ei):\n",
    "    if si>=ei:\n",
    "        return\n",
    "    pivot_index= partition(a,si,ei)\n",
    "    QuickSort(a,si,pivot_index - 1)\n",
    "    QuickSort(a,pivot_index + 1,ei)\n",
    "\n",
    "\n",
    "a=[10,8,6,4,2,9,7,5,3,1]\n",
    "QuickSort(a,0,len(a)-1)\n",
    "a"
   ]
  },
  {
   "cell_type": "code",
   "execution_count": 4,
   "id": "20104885-b6ae-4fa4-94ac-eb1df403537f",
   "metadata": {},
   "outputs": [],
   "source": [
    "def partition(a,si,ei):\n",
    "    pe=a[si] # pivot element\n",
    "    # Finding the number of element smaller than pivot element\n",
    "    c=0  #count variable that acutally count the number of element less than the pivot element\n",
    "    for i in range (si,ei+1,1):\n",
    "        if a[i]<pe:\n",
    "            c= c+1\n",
    "\n",
    "    a[si+c],a[si]=a[si],a[si+c] # swapping the first element to the correct position of pivot element\n",
    "    pi= si+c # Pivot index\n",
    "    i=si\n",
    "    j=ei\n",
    "    # doing the sorting of element that jo bhi element chote honge voh LHS mei aa jayenge and jo element bade honge voh RHS mei aa jayenge\n",
    "    while i<j:\n",
    "        if a[i]<pe:\n",
    "            i=i+1\n",
    "        elif a[j]>pe:\n",
    "            j=j-1\n",
    "        else:\n",
    "            a[i],a[j]=a[j],a[i]\n",
    "            i=i+1\n",
    "            j=j+1\n",
    "\n",
    "    return pi\n",
    "# a=[10,8,6,4,2,9,7,5,3,1]\n",
    "# print(partition(a,0,len(a)-1))\n",
    "# a"
   ]
  },
  {
   "cell_type": "code",
   "execution_count": null,
   "id": "29e09e1a-e1f0-4a08-9e7c-2f4f69c04f02",
   "metadata": {},
   "outputs": [],
   "source": []
  },
  {
   "cell_type": "code",
   "execution_count": 15,
   "id": "ac99bb13-1c79-47f6-bfdf-fc1a8fce8ec4",
   "metadata": {},
   "outputs": [
    {
     "name": "stdout",
     "output_type": "stream",
     "text": [
      "Move  a to  c\n",
      "Move  a to  b\n",
      "Move  c to  b\n",
      "Move  a to  c\n",
      "Move  b to  a\n",
      "Move  b to  c\n",
      "Move  a to  c\n"
     ]
    }
   ],
   "source": [
    "#Tower of Hanoi\n",
    "def TOH(n,a,b,c):\n",
    "    if n>0:\n",
    "        TOH(n-1,a,c,b)\n",
    "        print(\"Move \",a,\"to \", c)\n",
    "        TOH(n-1,b,a,c)\n",
    "\n",
    "TOH(3,'a','b','c')"
   ]
  },
  {
   "cell_type": "code",
   "execution_count": null,
   "id": "29533d0d-5c7c-4bf1-bb5a-d1e6fff90f1e",
   "metadata": {},
   "outputs": [],
   "source": [
    "#Tower of Hanoi\n",
    "def TOH(n,startA,endB,viaC):\n",
    "    if n==1:\n",
    "        print(\"Move\",startA,\"to\",endB )\n",
    "    else:\n",
    "        TOH(n-1,startA,viaC,endB)\n",
    "        print(\"Move \",a,\"to \", c)\n",
    "        TOH(n-1,b,a,c)\n",
    "\n",
    "TOH(3,'a','b','c')"
   ]
  },
  {
   "cell_type": "code",
   "execution_count": null,
   "id": "394e9241-0d0e-43bb-a015-5013ef52f731",
   "metadata": {},
   "outputs": [],
   "source": []
  }
 ],
 "metadata": {
  "kernelspec": {
   "display_name": "Python 3 (ipykernel)",
   "language": "python",
   "name": "python3"
  },
  "language_info": {
   "codemirror_mode": {
    "name": "ipython",
    "version": 3
   },
   "file_extension": ".py",
   "mimetype": "text/x-python",
   "name": "python",
   "nbconvert_exporter": "python",
   "pygments_lexer": "ipython3",
   "version": "3.11.7"
  }
 },
 "nbformat": 4,
 "nbformat_minor": 5
}
